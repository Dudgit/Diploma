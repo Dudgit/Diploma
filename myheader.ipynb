{
 "cells": [
  {
   "cell_type": "code",
   "execution_count": 1,
   "metadata": {},
   "outputs": [
    {
     "name": "stderr",
     "output_type": "stream",
     "text": [
      "Using TensorFlow backend.\n"
     ]
    }
   ],
   "source": [
    "import tensorflow as tf\n",
    "import keras\n",
    "import json\n",
    "from keras.preprocessing.image import load_img,img_to_array\n",
    "import numpy as np\n",
    "from matplotlib import pyplot\n",
    "import math\n",
    "import os\n",
    "import pandas"
   ]
  },
  {
   "cell_type": "code",
   "execution_count": 4,
   "metadata": {},
   "outputs": [],
   "source": [
    "def read():\n",
    "    folder = \"test\"\n",
    "    listName = \"list\"\n",
    "    with open(folder+\"/\"+listName+\".json\", mode='r', encoding='utf-8') as handle:\n",
    "        hits = json.load(handle)\n",
    "    return hits"
   ]
  },
  {
   "cell_type": "code",
   "execution_count": 11,
   "metadata": {},
   "outputs": [],
   "source": [
    "hits=read()\n",
    "labels=[hits[i][\"hits\"] for i in range(100)]"
   ]
  },
  {
   "cell_type": "code",
   "execution_count": 6,
   "metadata": {},
   "outputs": [],
   "source": [
    "def img(name_string):\n",
    "    image = load_img(name_string, target_size=(600, 600))\n",
    "    image = img_to_array(image)\n",
    "    pixels = np.asarray(image)\n",
    "    pixels = pixels.astype('float32')\n",
    "    pixels /= 255.0\n",
    "    mean, std = pixels.mean(), pixels.std()\n",
    "    return image"
   ]
  },
  {
   "cell_type": "code",
   "execution_count": 7,
   "metadata": {},
   "outputs": [],
   "source": [
    "def images(minimum,maximum):\n",
    "    images=[]\n",
    "    for i in range(minimum,maximum):\n",
    "        name=\"test/0000\"\n",
    "        if(i<10):\n",
    "            name = name +\"0\"\n",
    "        if(i>99):\n",
    "            name = \"test/000\"\n",
    "        name = name + str(i) + \".png\"\n",
    "        images.append(img(name))\n",
    "    images=np.array(images)\n",
    "    return images"
   ]
  },
  {
   "cell_type": "code",
   "execution_count": 12,
   "metadata": {},
   "outputs": [],
   "source": [
    "train_dataset = tf.data.Dataset.from_tensor_slices((images(0,100), labels))\n",
    "train_dataset = train_dataset.repeat().shuffle(100).batch(80)"
   ]
  },
  {
   "cell_type": "code",
   "execution_count": 13,
   "metadata": {},
   "outputs": [],
   "source": [
    "num_train_examples=100"
   ]
  },
  {
   "cell_type": "code",
   "execution_count": 14,
   "metadata": {},
   "outputs": [],
   "source": [
    "BATCH_SIZE=40"
   ]
  },
  {
   "cell_type": "code",
   "execution_count": null,
   "metadata": {},
   "outputs": [],
   "source": []
  }
 ],
 "metadata": {
  "kernelspec": {
   "display_name": "Python 3",
   "language": "python",
   "name": "python3"
  },
  "language_info": {
   "codemirror_mode": {
    "name": "ipython",
    "version": 3
   },
   "file_extension": ".py",
   "mimetype": "text/x-python",
   "name": "python",
   "nbconvert_exporter": "python",
   "pygments_lexer": "ipython3",
   "version": "3.7.4"
  }
 },
 "nbformat": 4,
 "nbformat_minor": 2
}

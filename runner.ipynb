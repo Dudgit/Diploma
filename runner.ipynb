{
 "cells": [
  {
   "cell_type": "code",
   "execution_count": 9,
   "metadata": {},
   "outputs": [],
   "source": [
    "import os\n",
    "import numpy as np\n",
    "import matplotlib.pyplot as plt\n",
    "import json"
   ]
  },
  {
   "cell_type": "code",
   "execution_count": 11,
   "metadata": {},
   "outputs": [],
   "source": [
    "def read():\n",
    "    folder = \"test\"\n",
    "    listName = \"list\"\n",
    "    with open(folder+\"/\"+listName+\".json\", mode='r', encoding='utf-8') as handle:\n",
    "        hits = json.load(handle)\n",
    "    return hits"
   ]
  },
  {
   "cell_type": "code",
   "execution_count": 12,
   "metadata": {},
   "outputs": [],
   "source": [
    "hits=read()\n",
    "labels=[hits[i][\"hits\"] for i in range(100)]"
   ]
  },
  {
   "cell_type": "code",
   "execution_count": 36,
   "metadata": {},
   "outputs": [],
   "source": [
    "for label in hits:\n",
    "    name =str(label['num']) + \".txt\"\n",
    "    handler = open(name,\"w+\")\n",
    "    for i in range(len(label['r'])):\n",
    "        handler.write(str(label['r'][i]) + \" \")\n",
    "        handler.write(str(label['x'][i]) + \" \")\n",
    "        handler.write(str(label['y'][i]) + \" \")\n",
    "        handler.write(str(label['r'][i]) + \" \")\n",
    "        handler.write(str(label['r'][i]) )\n",
    "    handler.close()"
   ]
  },
  {
   "cell_type": "code",
   "execution_count": null,
   "metadata": {},
   "outputs": [],
   "source": []
  },
  {
   "cell_type": "code",
   "execution_count": null,
   "metadata": {},
   "outputs": [],
   "source": []
  }
 ],
 "metadata": {
  "kernelspec": {
   "display_name": "Python 3",
   "language": "python",
   "name": "python3"
  },
  "language_info": {
   "codemirror_mode": {
    "name": "ipython",
    "version": 3
   },
   "file_extension": ".py",
   "mimetype": "text/x-python",
   "name": "python",
   "nbconvert_exporter": "python",
   "pygments_lexer": "ipython3",
   "version": "3.7.4"
  }
 },
 "nbformat": 4,
 "nbformat_minor": 2
}
